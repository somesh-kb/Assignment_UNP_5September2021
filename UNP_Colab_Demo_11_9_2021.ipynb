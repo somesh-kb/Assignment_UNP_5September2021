{
  "nbformat": 4,
  "nbformat_minor": 0,
  "metadata": {
    "colab": {
      "name": "UNP_Colab_Demo_11-9-2021.ipynb",
      "provenance": [],
      "authorship_tag": "ABX9TyNYL+Oy7sRVcf/IwHFH8C9p",
      "include_colab_link": true
    },
    "kernelspec": {
      "name": "python3",
      "display_name": "Python 3"
    },
    "language_info": {
      "name": "python"
    }
  },
  "cells": [
    {
      "cell_type": "markdown",
      "metadata": {
        "id": "view-in-github",
        "colab_type": "text"
      },
      "source": [
        "<a href=\"https://colab.research.google.com/github/somesh-kb/Assignment_UNP_5September2021/blob/main/UNP_Colab_Demo_11_9_2021.ipynb\" target=\"_parent\"><img src=\"https://colab.research.google.com/assets/colab-badge.svg\" alt=\"Open In Colab\"/></a>"
      ]
    },
    {
      "cell_type": "code",
      "metadata": {
        "colab": {
          "base_uri": "https://localhost:8080/"
        },
        "id": "RYp31ihqL3KJ",
        "outputId": "e1409652-3f9f-4762-9f50-154914f9b14e"
      },
      "source": [
        "print(\"Good morning All\")"
      ],
      "execution_count": 2,
      "outputs": [
        {
          "output_type": "stream",
          "name": "stdout",
          "text": [
            "Good morning All\n"
          ]
        }
      ]
    },
    {
      "cell_type": "code",
      "metadata": {
        "colab": {
          "base_uri": "https://localhost:8080/"
        },
        "id": "66ePwV-9Mxd4",
        "outputId": "f9272c85-33f0-446d-c2c0-90e83ca4ba42"
      },
      "source": [
        "a = 1\n",
        "print(a)"
      ],
      "execution_count": 3,
      "outputs": [
        {
          "output_type": "stream",
          "name": "stdout",
          "text": [
            "1\n"
          ]
        }
      ]
    },
    {
      "cell_type": "code",
      "metadata": {
        "colab": {
          "base_uri": "https://localhost:8080/"
        },
        "id": "4XEGkrebNsHX",
        "outputId": "e82ac861-7a1d-42e1-93b1-a6917b51d513"
      },
      "source": [
        "b = 5\n",
        "\n",
        "print(b)"
      ],
      "execution_count": 14,
      "outputs": [
        {
          "output_type": "stream",
          "name": "stdout",
          "text": [
            "5\n"
          ]
        }
      ]
    },
    {
      "cell_type": "code",
      "metadata": {
        "colab": {
          "base_uri": "https://localhost:8080/"
        },
        "id": "mfRbopS_NxX9",
        "outputId": "d150e026-0d37-4c3a-dc9d-2dfcfb41b755"
      },
      "source": [
        "print(a+b)"
      ],
      "execution_count": 5,
      "outputs": [
        {
          "output_type": "stream",
          "name": "stdout",
          "text": [
            "6\n"
          ]
        }
      ]
    },
    {
      "cell_type": "code",
      "metadata": {
        "colab": {
          "base_uri": "https://localhost:8080/"
        },
        "id": "q4hRO5tMN4mZ",
        "outputId": "9a1f7778-cbf7-48ca-d786-7fd1927a3ffd"
      },
      "source": [
        "print('Sum of a and b = ', + (a+b))"
      ],
      "execution_count": 8,
      "outputs": [
        {
          "output_type": "stream",
          "name": "stdout",
          "text": [
            "Sum of a and b =  6\n"
          ]
        }
      ]
    },
    {
      "cell_type": "code",
      "metadata": {
        "colab": {
          "base_uri": "https://localhost:8080/"
        },
        "id": "d6dUOFgSOOGs",
        "outputId": "ad22b97a-42bb-48bc-b65e-dfef4fb493b3"
      },
      "source": [
        "print(a-b)"
      ],
      "execution_count": 9,
      "outputs": [
        {
          "output_type": "stream",
          "name": "stdout",
          "text": [
            "-4\n"
          ]
        }
      ]
    },
    {
      "cell_type": "code",
      "metadata": {
        "colab": {
          "base_uri": "https://localhost:8080/"
        },
        "id": "qQdwFW58PH0y",
        "outputId": "fc0d78d7-9b41-4a2c-e91d-deaed5bd229a"
      },
      "source": [
        "print(abs(a-b))"
      ],
      "execution_count": 10,
      "outputs": [
        {
          "output_type": "stream",
          "name": "stdout",
          "text": [
            "4\n"
          ]
        }
      ]
    },
    {
      "cell_type": "code",
      "metadata": {
        "colab": {
          "base_uri": "https://localhost:8080/"
        },
        "id": "AGDwNI8QPRe_",
        "outputId": "cd17e81d-707e-4f50-d7ac-31272da93b91"
      },
      "source": [
        "print(a/b)"
      ],
      "execution_count": 11,
      "outputs": [
        {
          "output_type": "stream",
          "name": "stdout",
          "text": [
            "0.2\n"
          ]
        }
      ]
    },
    {
      "cell_type": "code",
      "metadata": {
        "colab": {
          "base_uri": "https://localhost:8080/"
        },
        "id": "mHu846XgPeWQ",
        "outputId": "3c8fd1e6-556f-427b-e007-cf5af67cc7d5"
      },
      "source": [
        "print(a//b)"
      ],
      "execution_count": 17,
      "outputs": [
        {
          "output_type": "stream",
          "name": "stdout",
          "text": [
            "0\n"
          ]
        }
      ]
    },
    {
      "cell_type": "markdown",
      "metadata": {
        "id": "0ArYr5WqSblI"
      },
      "source": [
        "**To create a new cell along with running the present one, type Shift + Enter;\n",
        "to focus on the present cell press Ctrl  + Enter;\n",
        "TO create a new cell inbetween press Alt + Enter** \n"
      ]
    },
    {
      "cell_type": "markdown",
      "metadata": {
        "id": "kY1DkUhlVt96"
      },
      "source": [
        "Create a function which will give us the square of a number!!!"
      ]
    },
    {
      "cell_type": "code",
      "metadata": {
        "colab": {
          "base_uri": "https://localhost:8080/"
        },
        "id": "BIlgoMjnR5no",
        "outputId": "1793ae43-5e7e-4d38-9510-015a1bbb525f"
      },
      "source": [
        "def cubic(x):\n",
        "  z = x*x*x\n",
        "  return(z)\n",
        "print(cubic(2))"
      ],
      "execution_count": 22,
      "outputs": [
        {
          "output_type": "stream",
          "name": "stdout",
          "text": [
            "8\n"
          ]
        }
      ]
    },
    {
      "cell_type": "code",
      "metadata": {
        "id": "qReHMnPiQfZR"
      },
      "source": [
        ""
      ],
      "execution_count": null,
      "outputs": []
    },
    {
      "cell_type": "code",
      "metadata": {
        "colab": {
          "base_uri": "https://localhost:8080/"
        },
        "id": "qCKOhk4-SRrR",
        "outputId": "8ab31046-6cc0-4def-b553-54543f8e2961"
      },
      "source": [
        "old_nifty = 16500\n",
        "nifty = 16500 #@ 9:20 am \n",
        "if nifty > old_nifty:\n",
        "  print('Trade Today')\n",
        "elif nifty == old_nifty: ## Amulya\n",
        "  print('Hold your money')\n",
        "else:\n",
        "  print('NO  Trading today')"
      ],
      "execution_count": 28,
      "outputs": [
        {
          "output_type": "stream",
          "name": "stdout",
          "text": [
            "Hold your money\n"
          ]
        }
      ]
    },
    {
      "cell_type": "markdown",
      "metadata": {
        "id": "K57qTTsvbyNT"
      },
      "source": [
        "** List **"
      ]
    },
    {
      "cell_type": "code",
      "metadata": {
        "id": "qJleYCyob7ze",
        "outputId": "d783d18a-2c48-4687-dbd5-c978f313e2a0",
        "colab": {
          "base_uri": "https://localhost:8080/"
        }
      },
      "source": [
        "prime_numbers = [1,2,3,5,7,11,13,17,19,23]\n",
        "\n",
        "print(prime_numbers)"
      ],
      "execution_count": 29,
      "outputs": [
        {
          "output_type": "stream",
          "name": "stdout",
          "text": [
            "[1, 2, 3, 5, 7, 11, 13, 17, 19, 23]\n"
          ]
        }
      ]
    },
    {
      "cell_type": "code",
      "metadata": {
        "id": "jsijo9OGctFJ",
        "outputId": "8045bb8c-6855-471b-ae79-829ee3f4843b",
        "colab": {
          "base_uri": "https://localhost:8080/"
        }
      },
      "source": [
        "print(prime_numbers[0:10])"
      ],
      "execution_count": 46,
      "outputs": [
        {
          "output_type": "stream",
          "name": "stdout",
          "text": [
            "[1, 2, 3, 5, 7, 11, 13, 17, 19, 23]\n"
          ]
        }
      ]
    },
    {
      "cell_type": "markdown",
      "metadata": {
        "id": "58sHAFz_dZ1A"
      },
      "source": [
        "if we have n elemnts in the list, and we specify, m to k indices in the list, \n",
        "then by default print will give us m to k-1 "
      ]
    },
    {
      "cell_type": "code",
      "metadata": {
        "id": "hPAles5PdGQy",
        "outputId": "0733cfb0-a79d-4632-927f-7043bd26b435",
        "colab": {
          "base_uri": "https://localhost:8080/"
        }
      },
      "source": [
        "len(prime_numbers)"
      ],
      "execution_count": 33,
      "outputs": [
        {
          "output_type": "execute_result",
          "data": {
            "text/plain": [
              "10"
            ]
          },
          "metadata": {},
          "execution_count": 33
        }
      ]
    },
    {
      "cell_type": "code",
      "metadata": {
        "id": "0WNy9reVd7BX"
      },
      "source": [
        ""
      ],
      "execution_count": null,
      "outputs": []
    }
  ]
}